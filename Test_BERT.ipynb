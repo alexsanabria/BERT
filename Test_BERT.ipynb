{
  "nbformat": 4,
  "nbformat_minor": 0,
  "metadata": {
    "colab": {
      "name": "Test_BERT.ipynb",
      "provenance": [],
      "collapsed_sections": [],
      "authorship_tag": "ABX9TyNfn6OsYpbr9t7OoHxupvQZ"
    },
    "kernelspec": {
      "name": "python3",
      "display_name": "Python 3"
    },
    "language_info": {
      "name": "python"
    }
  },
  "cells": [
    {
      "cell_type": "code",
      "metadata": {
        "id": "lPG93JHCr9fM"
      },
      "source": [
        "! pip install transformers"
      ],
      "execution_count": null,
      "outputs": []
    },
    {
      "cell_type": "code",
      "metadata": {
        "id": "4xkiH7MLr0ZX"
      },
      "source": [
        "from transformers import AutoTokenizer, AutoModelForQuestionAnswering, pipeline\n",
        "the_model = 'mrm8488/distill-bert-base-spanish-wwm-cased-finetuned-spa-squad2-es'\n",
        "tokenizer = AutoTokenizer.from_pretrained(the_model, do_lower_case=False)\n",
        "model = AutoModelForQuestionAnswering.from_pretrained(the_model)"
      ],
      "execution_count": 38,
      "outputs": []
    },
    {
      "cell_type": "code",
      "metadata": {
        "id": "Pe06C8bO7ipy"
      },
      "source": [
        "from textwrap import wrap\n",
        "\n",
        "def preguntas_respuestas(model, contexto, nlp):\n",
        "  print('Contexto')\n",
        "  print('******************')\n",
        "  print('\\n'.join(wrap(contexto)))\n",
        "\n",
        "  continuar = True\n",
        "  while continuar:\n",
        "    print('\\nPregunta:')\n",
        "    print('-----------------')\n",
        "    pregunta = str(input())\n",
        "\n",
        "    continuar = pregunta!=''\n",
        "\n",
        "    if continuar:\n",
        "      salida = nlp({'question':pregunta, 'context':contexto})\n",
        "      print('\\nRespuesta:')\n",
        "      print('-----------------')\n",
        "      print(salida['answer'],'--', salida['score'])"
      ],
      "execution_count": 41,
      "outputs": []
    },
    {
      "cell_type": "code",
      "metadata": {
        "colab": {
          "base_uri": "https://localhost:8080/"
        },
        "id": "u8pfuVJ39lVv",
        "outputId": "7499c0be-947e-436b-99c4-334df57e2903"
      },
      "source": [
        "contexto='Soy ingeniero de procesos industriales, especialista en analítica de datos, con más de 10 años de experiencia en el campo de la industria, en las áreas de mantenimiento y gestión de proyectos de ingeniería. Con todo el deseo y la actitud para entrar al mundo de la analítica, la inteligencia artificial y el desarrollo de software.'\n",
        "preguntas_respuestas(model, contexto, nlp)"
      ],
      "execution_count": 47,
      "outputs": [
        {
          "output_type": "stream",
          "text": [
            "Contexto\n",
            "******************\n",
            "Soy ingeniero de procesos industriales, especialista en analítica de\n",
            "datos, con más de 10 años de experiencia en el campo de la industria,\n",
            "en las áreas de mantenimiento y gestión de proyectos de ingeniería.\n",
            "Con todo el deseo y la actitud para entrar al mundo de la analítica,\n",
            "la inteligencia artificial y el desarrollo de software.\n",
            "\n",
            "Pregunta:\n",
            "-----------------\n",
            "Que estudié?\n",
            "\n",
            "Respuesta:\n",
            "-----------------\n",
            "analítica de datos -- 0.0025671457406133413\n",
            "\n",
            "Pregunta:\n",
            "-----------------\n",
            "\n"
          ],
          "name": "stdout"
        }
      ]
    },
    {
      "cell_type": "code",
      "metadata": {
        "colab": {
          "base_uri": "https://localhost:8080/"
        },
        "id": "lbDI_GTBBLkq",
        "outputId": "b15d1090-c17d-45e9-ee21-97ab30bc3eb0"
      },
      "source": [
        ""
      ],
      "execution_count": 44,
      "outputs": [
        {
          "output_type": "stream",
          "text": [
            "fatal: not a git repository (or any of the parent directories): .git\n"
          ],
          "name": "stdout"
        }
      ]
    }
  ]
}