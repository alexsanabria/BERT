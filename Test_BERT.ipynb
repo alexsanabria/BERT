{
  "nbformat": 4,
  "nbformat_minor": 0,
  "metadata": {
    "colab": {
      "name": "Test_BERT.ipynb",
      "provenance": [],
      "authorship_tag": "ABX9TyM6fiKvKFzAW+fWFzZCsu5L"
    },
    "kernelspec": {
      "name": "python3",
      "display_name": "Python 3"
    },
    "language_info": {
      "name": "python"
    },
    "widgets": {
      "application/vnd.jupyter.widget-state+json": {
        "02f6c93f3aa34b9ea3b3bfa8ef7beae6": {
          "model_module": "@jupyter-widgets/controls",
          "model_name": "HBoxModel",
          "state": {
            "_view_name": "HBoxView",
            "_dom_classes": [],
            "_model_name": "HBoxModel",
            "_view_module": "@jupyter-widgets/controls",
            "_model_module_version": "1.5.0",
            "_view_count": null,
            "_view_module_version": "1.5.0",
            "box_style": "",
            "layout": "IPY_MODEL_8968a0e1527e4bf3802838405446c70f",
            "_model_module": "@jupyter-widgets/controls",
            "children": [
              "IPY_MODEL_8c31b105321c42e583875aa67571c750",
              "IPY_MODEL_43ef22e75e7749ffa69e95baa0e72813"
            ]
          }
        },
        "8968a0e1527e4bf3802838405446c70f": {
          "model_module": "@jupyter-widgets/base",
          "model_name": "LayoutModel",
          "state": {
            "_view_name": "LayoutView",
            "grid_template_rows": null,
            "right": null,
            "justify_content": null,
            "_view_module": "@jupyter-widgets/base",
            "overflow": null,
            "_model_module_version": "1.2.0",
            "_view_count": null,
            "flex_flow": null,
            "width": null,
            "min_width": null,
            "border": null,
            "align_items": null,
            "bottom": null,
            "_model_module": "@jupyter-widgets/base",
            "top": null,
            "grid_column": null,
            "overflow_y": null,
            "overflow_x": null,
            "grid_auto_flow": null,
            "grid_area": null,
            "grid_template_columns": null,
            "flex": null,
            "_model_name": "LayoutModel",
            "justify_items": null,
            "grid_row": null,
            "max_height": null,
            "align_content": null,
            "visibility": null,
            "align_self": null,
            "height": null,
            "min_height": null,
            "padding": null,
            "grid_auto_rows": null,
            "grid_gap": null,
            "max_width": null,
            "order": null,
            "_view_module_version": "1.2.0",
            "grid_template_areas": null,
            "object_position": null,
            "object_fit": null,
            "grid_auto_columns": null,
            "margin": null,
            "display": null,
            "left": null
          }
        },
        "8c31b105321c42e583875aa67571c750": {
          "model_module": "@jupyter-widgets/controls",
          "model_name": "FloatProgressModel",
          "state": {
            "_view_name": "ProgressView",
            "style": "IPY_MODEL_298e50fd03954f73a163938e5945b38a",
            "_dom_classes": [],
            "description": "Downloading: 100%",
            "_model_name": "FloatProgressModel",
            "bar_style": "success",
            "max": 439457860,
            "_view_module": "@jupyter-widgets/controls",
            "_model_module_version": "1.5.0",
            "value": 439457860,
            "_view_count": null,
            "_view_module_version": "1.5.0",
            "orientation": "horizontal",
            "min": 0,
            "description_tooltip": null,
            "_model_module": "@jupyter-widgets/controls",
            "layout": "IPY_MODEL_3dba8faffa5c4b3d927ecd1b3441e586"
          }
        },
        "43ef22e75e7749ffa69e95baa0e72813": {
          "model_module": "@jupyter-widgets/controls",
          "model_name": "HTMLModel",
          "state": {
            "_view_name": "HTMLView",
            "style": "IPY_MODEL_da32b464400a491da5936bb94df92795",
            "_dom_classes": [],
            "description": "",
            "_model_name": "HTMLModel",
            "placeholder": "​",
            "_view_module": "@jupyter-widgets/controls",
            "_model_module_version": "1.5.0",
            "value": " 439M/439M [00:10&lt;00:00, 42.4MB/s]",
            "_view_count": null,
            "_view_module_version": "1.5.0",
            "description_tooltip": null,
            "_model_module": "@jupyter-widgets/controls",
            "layout": "IPY_MODEL_8e668df615d54258b7f0c0347e6c510a"
          }
        },
        "298e50fd03954f73a163938e5945b38a": {
          "model_module": "@jupyter-widgets/controls",
          "model_name": "ProgressStyleModel",
          "state": {
            "_view_name": "StyleView",
            "_model_name": "ProgressStyleModel",
            "description_width": "initial",
            "_view_module": "@jupyter-widgets/base",
            "_model_module_version": "1.5.0",
            "_view_count": null,
            "_view_module_version": "1.2.0",
            "bar_color": null,
            "_model_module": "@jupyter-widgets/controls"
          }
        },
        "3dba8faffa5c4b3d927ecd1b3441e586": {
          "model_module": "@jupyter-widgets/base",
          "model_name": "LayoutModel",
          "state": {
            "_view_name": "LayoutView",
            "grid_template_rows": null,
            "right": null,
            "justify_content": null,
            "_view_module": "@jupyter-widgets/base",
            "overflow": null,
            "_model_module_version": "1.2.0",
            "_view_count": null,
            "flex_flow": null,
            "width": null,
            "min_width": null,
            "border": null,
            "align_items": null,
            "bottom": null,
            "_model_module": "@jupyter-widgets/base",
            "top": null,
            "grid_column": null,
            "overflow_y": null,
            "overflow_x": null,
            "grid_auto_flow": null,
            "grid_area": null,
            "grid_template_columns": null,
            "flex": null,
            "_model_name": "LayoutModel",
            "justify_items": null,
            "grid_row": null,
            "max_height": null,
            "align_content": null,
            "visibility": null,
            "align_self": null,
            "height": null,
            "min_height": null,
            "padding": null,
            "grid_auto_rows": null,
            "grid_gap": null,
            "max_width": null,
            "order": null,
            "_view_module_version": "1.2.0",
            "grid_template_areas": null,
            "object_position": null,
            "object_fit": null,
            "grid_auto_columns": null,
            "margin": null,
            "display": null,
            "left": null
          }
        },
        "da32b464400a491da5936bb94df92795": {
          "model_module": "@jupyter-widgets/controls",
          "model_name": "DescriptionStyleModel",
          "state": {
            "_view_name": "StyleView",
            "_model_name": "DescriptionStyleModel",
            "description_width": "",
            "_view_module": "@jupyter-widgets/base",
            "_model_module_version": "1.5.0",
            "_view_count": null,
            "_view_module_version": "1.2.0",
            "_model_module": "@jupyter-widgets/controls"
          }
        },
        "8e668df615d54258b7f0c0347e6c510a": {
          "model_module": "@jupyter-widgets/base",
          "model_name": "LayoutModel",
          "state": {
            "_view_name": "LayoutView",
            "grid_template_rows": null,
            "right": null,
            "justify_content": null,
            "_view_module": "@jupyter-widgets/base",
            "overflow": null,
            "_model_module_version": "1.2.0",
            "_view_count": null,
            "flex_flow": null,
            "width": null,
            "min_width": null,
            "border": null,
            "align_items": null,
            "bottom": null,
            "_model_module": "@jupyter-widgets/base",
            "top": null,
            "grid_column": null,
            "overflow_y": null,
            "overflow_x": null,
            "grid_auto_flow": null,
            "grid_area": null,
            "grid_template_columns": null,
            "flex": null,
            "_model_name": "LayoutModel",
            "justify_items": null,
            "grid_row": null,
            "max_height": null,
            "align_content": null,
            "visibility": null,
            "align_self": null,
            "height": null,
            "min_height": null,
            "padding": null,
            "grid_auto_rows": null,
            "grid_gap": null,
            "max_width": null,
            "order": null,
            "_view_module_version": "1.2.0",
            "grid_template_areas": null,
            "object_position": null,
            "object_fit": null,
            "grid_auto_columns": null,
            "margin": null,
            "display": null,
            "left": null
          }
        }
      }
    }
  },
  "cells": [
    {
      "cell_type": "code",
      "metadata": {
        "id": "lPG93JHCr9fM"
      },
      "source": [
        "! pip install transformers"
      ],
      "execution_count": null,
      "outputs": []
    },
    {
      "cell_type": "code",
      "metadata": {
        "colab": {
          "base_uri": "https://localhost:8080/",
          "height": 66,
          "referenced_widgets": [
            "02f6c93f3aa34b9ea3b3bfa8ef7beae6",
            "8968a0e1527e4bf3802838405446c70f",
            "8c31b105321c42e583875aa67571c750",
            "43ef22e75e7749ffa69e95baa0e72813",
            "298e50fd03954f73a163938e5945b38a",
            "3dba8faffa5c4b3d927ecd1b3441e586",
            "da32b464400a491da5936bb94df92795",
            "8e668df615d54258b7f0c0347e6c510a"
          ]
        },
        "id": "4xkiH7MLr0ZX",
        "outputId": "89e9adf0-75a7-46a6-9eab-9186973573e9"
      },
      "source": [
        "from transformers import AutoTokenizer, AutoModelForQuestionAnswering, pipeline\n",
        "the_model = 'mrm8488/distill-bert-base-spanish-wwm-cased-finetuned-spa-squad2-es'\n",
        "tokenizer = AutoTokenizer.from_pretrained(the_model, do_lower_case=False)\n",
        "model = AutoModelForQuestionAnswering.from_pretrained(the_model)"
      ],
      "execution_count": 4,
      "outputs": [
        {
          "output_type": "display_data",
          "data": {
            "application/vnd.jupyter.widget-view+json": {
              "model_id": "02f6c93f3aa34b9ea3b3bfa8ef7beae6",
              "version_minor": 0,
              "version_major": 2
            },
            "text/plain": [
              "HBox(children=(FloatProgress(value=0.0, description='Downloading', max=439457860.0, style=ProgressStyle(descri…"
            ]
          },
          "metadata": {
            "tags": []
          }
        },
        {
          "output_type": "stream",
          "text": [
            "\n"
          ],
          "name": "stdout"
        }
      ]
    },
    {
      "cell_type": "code",
      "metadata": {
        "colab": {
          "base_uri": "https://localhost:8080/"
        },
        "id": "mq0Z6_eXsj-f",
        "outputId": "9b4b63ee-000d-45f3-fc47-544565bafd34"
      },
      "source": [
        "contexto=\"mi nombre es Alex, soy de ramiriqui\"\n",
        "pregunta=\"¿De donde soy yo?\"\n",
        "\n",
        "codifcado=tokenizer.encode_plus(pregunta, contexto, return_tensors='pt')\n",
        "inputs_ids=codifcado['input_ids'].tolist()\n",
        "inputs_ids=inputs_ids[0]\n",
        "tokens=tokenizer.convert_ids_to_tokens(inputs_ids)\n",
        "print(tokens)\n",
        "for id, token in zip(inputs_ids, tokens):\n",
        "  print('{:<12} {:>6}'.format(token, id))\n",
        "  print('')"
      ],
      "execution_count": 15,
      "outputs": [
        {
          "output_type": "stream",
          "text": [
            "['[CLS]', '¿', 'De', 'donde', 'soy', 'yo', '?', '[SEP]', 'mi', 'nombre', 'es', 'Alex', ',', 'soy', 'de', 'rami', '##ri', '##qui', '[SEP]']\n",
            "[CLS]             4\n",
            "\n",
            "¿              1067\n",
            "\n",
            "De             1261\n",
            "\n",
            "donde          1748\n",
            "\n",
            "soy            2020\n",
            "\n",
            "yo             1467\n",
            "\n",
            "?              1064\n",
            "\n",
            "[SEP]             5\n",
            "\n",
            "mi             1153\n",
            "\n",
            "nombre         1952\n",
            "\n",
            "es             1058\n",
            "\n",
            "Alex           6182\n",
            "\n",
            ",              1017\n",
            "\n",
            "soy            2020\n",
            "\n",
            "de             1008\n",
            "\n",
            "rami          23686\n",
            "\n",
            "##ri           1076\n",
            "\n",
            "##qui          1247\n",
            "\n",
            "[SEP]             5\n",
            "\n"
          ],
          "name": "stdout"
        }
      ]
    },
    {
      "cell_type": "code",
      "metadata": {
        "colab": {
          "base_uri": "https://localhost:8080/"
        },
        "id": "IK-SP4FV21oC",
        "outputId": "f8637410-7299-42c3-8033-1308f8d2eae1"
      },
      "source": [
        "nlp=pipeline('question-answering', model=model, tokenizer=tokenizer)\n",
        "salida=nlp({'question':pregunta, 'context':contexto})\n",
        "print(salida)"
      ],
      "execution_count": 22,
      "outputs": [
        {
          "output_type": "stream",
          "text": [
            "{'score': 0.9465450048446655, 'start': 26, 'end': 35, 'answer': 'ramiriqui'}\n"
          ],
          "name": "stdout"
        }
      ]
    },
    {
      "cell_type": "code",
      "metadata": {
        "id": "Pe06C8bO7ipy"
      },
      "source": [
        "from textwrap import wrap\n",
        "\n",
        "def preguntas_respuestas(model, contexto, nlp):\n",
        "  print('Contexto')\n",
        "  print('******************')\n",
        "  print('\\n'.join(wrap(contexto)))\n",
        "\n",
        "  continuar = True\n",
        "  while continuar:\n",
        "    print('\\nPregunta:')\n",
        "    print('-----------------')\n",
        "    pregunta = str(input())\n",
        "\n",
        "    continuar = pregunta!=''\n",
        "\n",
        "    if continuar:\n",
        "      salida = nlp({'question':pregunta, 'context':contexto})\n",
        "      print('\\nRespuesta:')\n",
        "      print('-----------------')\n",
        "      print(salida['answer'],'--', salida['score'])"
      ],
      "execution_count": 29,
      "outputs": []
    },
    {
      "cell_type": "code",
      "metadata": {
        "colab": {
          "base_uri": "https://localhost:8080/"
        },
        "id": "u8pfuVJ39lVv",
        "outputId": "41887319-d8ac-4db7-be1d-ff9f679129ba"
      },
      "source": [
        "contexto='Soy ingeniero de procesos industriales, especialista en analítica de datos, con más de 10 años de experiencia en el campo de la industria, en las áreas de mantenimiento y gestión de proyectos de ingeniería. Con todo el deseo y la actitud para entrar al mundo de la analítica, la inteligencia artificial y el desarrollo de software.'\n",
        "preguntas_respuestas(model, contexto, nlp)"
      ],
      "execution_count": 30,
      "outputs": [
        {
          "output_type": "stream",
          "text": [
            "Contexto\n",
            "******************\n",
            "Soy ingeniero de procesos industriales, especialista en analítica de\n",
            "datos, con más de 10 años de experiencia en el campo de la industria,\n",
            "en las áreas de mantenimiento y gestión de proyectos de ingeniería.\n",
            "Con todo el deseo y la actitud para entrar al mundo de la analítica,\n",
            "la inteligencia artificial y el desarrollo de software.\n",
            "\n",
            "Pregunta:\n",
            "-----------------\n",
            "¿Que he hecho?\n",
            "\n",
            "Respuesta:\n",
            "-----------------\n",
            "Con todo el deseo y la actitud para entrar al mundo de la analítica -- 0.07895763963460922\n",
            "\n",
            "Pregunta:\n",
            "-----------------\n",
            "¿que estudió?\n",
            "\n",
            "Respuesta:\n",
            "-----------------\n",
            "analítica de datos -- 0.012201747857034206\n",
            "\n",
            "Pregunta:\n",
            "-----------------\n",
            "profesion?\n",
            "\n",
            "Respuesta:\n",
            "-----------------\n",
            "ingeniero de procesos industriales -- 0.8949728608131409\n",
            "\n",
            "Pregunta:\n",
            "-----------------\n",
            "Especializacion?\n",
            "\n",
            "Respuesta:\n",
            "-----------------\n",
            "analítica de datos -- 0.8869436979293823\n",
            "\n",
            "Pregunta:\n",
            "-----------------\n",
            "Estudios?\n",
            "\n",
            "Respuesta:\n",
            "-----------------\n",
            "ingeniería -- 0.032818496227264404\n",
            "\n",
            "Pregunta:\n",
            "-----------------\n",
            "\n"
          ],
          "name": "stdout"
        }
      ]
    },
    {
      "cell_type": "code",
      "metadata": {
        "colab": {
          "base_uri": "https://localhost:8080/"
        },
        "id": "lbDI_GTBBLkq",
        "outputId": "3e6f87d7-7d6d-446b-c911-58f55b4739ef"
      },
      "source": [
        "! git status"
      ],
      "execution_count": 31,
      "outputs": [
        {
          "output_type": "stream",
          "text": [
            "fatal: not a git repository (or any of the parent directories): .git\n"
          ],
          "name": "stdout"
        }
      ]
    }
  ]
}